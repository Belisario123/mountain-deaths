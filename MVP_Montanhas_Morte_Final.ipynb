{
 "cells": [
  {
   "cell_type": "markdown",
   "id": "7e4819ae",
   "metadata": {},
   "source": [
    "# 🏔️ Montanhas da Morte: Uma Análise Exploratória das Fatalidades nos Oito Mil Metros"
   ]
  },
  {
   "cell_type": "markdown",
   "id": "4630c925",
   "metadata": {},
   "source": [
    "## 📌 1. Introdução\n",
    "Este projeto analisa dados de alpinistas que morreram tentando escalar os 'eight-thousanders', os 14 picos com mais de 8.000 metros de altitude. A análise foca em identificar os picos mais perigosos, as causas mais comuns de morte, as nacionalidades mais afetadas e padrões temporais."
   ]
  },
  {
   "cell_type": "markdown",
   "id": "79320b3b",
   "metadata": {},
   "source": [
    "## 🎯 2. Definição do Problema e Checklist\n",
    "**Descrição do problema:** Identificar padrões de mortalidade em expedições aos eight-thousanders.\n",
    "**Tipo de problema:** Não supervisionado (análise exploratória)\n",
    "**Hipóteses:** Everest e K2 lideram em mortes. Avalanche e queda são causas mais comuns.\n",
    "**Restrições:** Apenas montanhas acima de 8.000m, conforme dataset.\n",
    "**Atributos:**\n",
    "- `Date`: Data da morte\n",
    "- `Name`: Nome do alpinista\n",
    "- `Nationality`: Nacionalidade\n",
    "- `Cause of death`: Causa da morte\n",
    "- `Mountain`: Montanha envolvida"
   ]
  },
  {
   "cell_type": "code",
   "execution_count": null,
   "id": "0789ce12",
   "metadata": {},
   "outputs": [],
   "source": [
    "import pandas as pd\n",
    "import matplotlib.pyplot as plt\n",
    "import seaborn as sns\n",
    "import numpy as np\n",
    "\n",
    "sns.set(style='whitegrid')"
   ]
  },
  {
   "cell_type": "markdown",
   "id": "5a7ae8c7",
   "metadata": {},
   "source": [
    "## 📥 3. Carregamento dos Dados"
   ]
  },
  {
   "cell_type": "code",
   "execution_count": null,
   "id": "e197cd33",
   "metadata": {},
   "outputs": [],
   "source": [
    "url = 'https://raw.githubusercontent.com/Belisario123/mountain-deaths/main/deaths_on_eight-thousanders.csv'\n",
    "df = pd.read_csv(url)\n",
    "df.head()"
   ]
  },
  {
   "cell_type": "markdown",
   "id": "cbc210e8",
   "metadata": {},
   "source": [
    "## 🧠 4. Análise Estatística Descritiva"
   ]
  },
  {
   "cell_type": "code",
   "execution_count": null,
   "id": "87010b36",
   "metadata": {},
   "outputs": [],
   "source": [
    "df.info()"
   ]
  },
  {
   "cell_type": "code",
   "execution_count": null,
   "id": "08862af5",
   "metadata": {},
   "outputs": [],
   "source": [
    "df.describe(include='all')"
   ]
  },
  {
   "cell_type": "code",
   "execution_count": null,
   "id": "b5505810",
   "metadata": {},
   "outputs": [],
   "source": [
    "df.isnull().sum()"
   ]
  },
  {
   "cell_type": "markdown",
   "id": "b1cbb795",
   "metadata": {},
   "source": [
    "## 📊 5. Análise Exploratória dos Dados (EDA)"
   ]
  },
  {
   "cell_type": "code",
   "execution_count": null,
   "id": "2cf89e04",
   "metadata": {},
   "outputs": [],
   "source": [
    "# Convertendo datas\n",
    "df['Date'] = pd.to_datetime(df['Date'], errors='coerce')\n",
    "df['Year'] = df['Date'].dt.year"
   ]
  },
  {
   "cell_type": "code",
   "execution_count": null,
   "id": "8884633f",
   "metadata": {},
   "outputs": [],
   "source": [
    "# Top 10 Montanhas com mais mortes\n",
    "plt.figure(figsize=(10,6))\n",
    "sns.countplot(y='Mountain', data=df, order=df['Mountain'].value_counts().index[:10])\n",
    "plt.title('Top 10 Montanhas com Mais Mortes')\n",
    "plt.xlabel('Número de Mortes')\n",
    "plt.ylabel('Montanha')\n",
    "plt.show()"
   ]
  },
  {
   "cell_type": "markdown",
   "id": "6d6fa465",
   "metadata": {},
   "source": [
    "**Interpretação:** Everest lidera com folga, seguido por K2. A popularidade e dificuldade técnica podem explicar isso."
   ]
  },
  {
   "cell_type": "code",
   "execution_count": null,
   "id": "f7b6656b",
   "metadata": {},
   "outputs": [],
   "source": [
    "# Principais causas de morte\n",
    "plt.figure(figsize=(10,6))\n",
    "sns.countplot(y='Cause of death', data=df, order=df['Cause of death'].value_counts().index[:10])\n",
    "plt.title('Causas Mais Comuns de Morte')\n",
    "plt.xlabel('Número de Casos')\n",
    "plt.ylabel('Causa')\n",
    "plt.show()"
   ]
  },
  {
   "cell_type": "markdown",
   "id": "1247c6d4",
   "metadata": {},
   "source": [
    "**Interpretação:** Avalanche, quedas e mal de altitude são causas predominantes."
   ]
  },
  {
   "cell_type": "code",
   "execution_count": null,
   "id": "a6b5fcb1",
   "metadata": {},
   "outputs": [],
   "source": [
    "# Nacionalidades mais afetadas\n",
    "plt.figure(figsize=(10,6))\n",
    "sns.countplot(y='Nationality', data=df, order=df['Nationality'].value_counts().index[:10])\n",
    "plt.title('Top 10 Nacionalidades com Mais Mortes')\n",
    "plt.xlabel('Número de Mortes')\n",
    "plt.ylabel('Nacionalidade')\n",
    "plt.show()"
   ]
  },
  {
   "cell_type": "markdown",
   "id": "4d70bf0b",
   "metadata": {},
   "source": [
    "**Interpretação:** Nepal é o país com mais fatalidades, provavelmente por abrigar Sherpas e maior atividade local."
   ]
  },
  {
   "cell_type": "code",
   "execution_count": null,
   "id": "79aad28f",
   "metadata": {},
   "outputs": [],
   "source": [
    "# Evolução ao longo do tempo\n",
    "plt.figure(figsize=(12,6))\n",
    "sns.histplot(df['Year'].dropna(), bins=40, kde=True)\n",
    "plt.title('Número de Mortes por Ano')\n",
    "plt.xlabel('Ano')\n",
    "plt.ylabel('Número de Fatalidades')\n",
    "plt.show()"
   ]
  },
  {
   "cell_type": "markdown",
   "id": "8e336435",
   "metadata": {},
   "source": [
    "**Interpretação:** A partir da década de 1980, as fatalidades cresceram, indicando aumento de expedições."
   ]
  },
  {
   "cell_type": "markdown",
   "id": "cf09352c",
   "metadata": {},
   "source": [
    "## 🧹 6. Pré-processamento dos Dados"
   ]
  },
  {
   "cell_type": "code",
   "execution_count": null,
   "id": "01112221",
   "metadata": {},
   "outputs": [],
   "source": [
    "df = df[df['Date'].notna()]\n",
    "df['Cause of death'] = df['Cause of death'].fillna('Desconhecido')\n",
    "df['Nationality'] = df['Nationality'].fillna('Desconhecido')"
   ]
  },
  {
   "cell_type": "markdown",
   "id": "988c0382",
   "metadata": {},
   "source": [
    "**Justificativas:**\n",
    "- Removemos registros com data ausente, pois inviabilizam análise temporal.\n",
    "- Preenchemos valores ausentes com 'Desconhecido' para evitar exclusão desnecessária."
   ]
  },
  {
   "cell_type": "markdown",
   "id": "ef520a3f",
   "metadata": {},
   "source": [
    "## ✅ 7. Conclusão\n",
    "- Everest e K2 são os picos com maior número de mortes.\n",
    "- Avalanches e quedas são as causas mais comuns.\n",
    "- Nepal lidera em fatalidades por nacionalidade.\n",
    "- As mortes aumentaram com o tempo, refletindo popularização do montanhismo.\n",
    "\n",
    "**Próximos passos:**\n",
    "- Calcular taxa de mortalidade (exige dataset complementar)\n",
    "- Criar visualizações dinâmicas em Power BI\n",
    "- Investigar fatores climáticos correlacionados"
   ]
  }
 ],
 "metadata": {},
 "nbformat": 4,
 "nbformat_minor": 5
}
